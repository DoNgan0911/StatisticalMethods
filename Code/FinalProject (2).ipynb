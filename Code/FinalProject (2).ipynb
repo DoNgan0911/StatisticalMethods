{
  "nbformat": 4,
  "nbformat_minor": 0,
  "metadata": {
    "colab": {
      "provenance": []
    },
    "kernelspec": {
      "name": "python3",
      "display_name": "Python 3"
    },
    "language_info": {
      "name": "python"
    }
  },
  "cells": [
    {
      "cell_type": "code",
      "execution_count": null,
      "metadata": {
        "id": "uxTaCT2mkwto"
      },
      "outputs": [],
      "source": [
        "import pandas as pd\n",
        "import numpy as np\n",
        "import textwrap\n",
        "import nltk\n",
        "from nltk.corpus import stopwords\n",
        "from nltk import word_tokenize\n",
        "from nltk.stem import WordNetLemmatizer, PorterStemmer\n",
        "from sklearn.feature_extraction.text import TfidfVectorizer\n",
        "from sklearn.metrics.pairwise import cosine_similarity"
      ]
    },
    {
      "cell_type": "code",
      "source": [
        "df = pd.read_csv('medical_transcription.csv')\n",
        "df.head()"
      ],
      "metadata": {
        "colab": {
          "base_uri": "https://localhost:8080/",
          "height": 313
        },
        "id": "I5MtAQbEk1oe",
        "outputId": "623ea224-01dd-4ed0-c557-046d569246c1"
      },
      "execution_count": null,
      "outputs": [
        {
          "output_type": "execute_result",
          "data": {
            "text/plain": [
              "                                         description  \\\n",
              "0   Nipple areolar reconstruction utilizing a ful...   \n",
              "1   Morbid obesity.  Laparoscopic antecolic anteg...   \n",
              "2           Consult for laparoscopic gastric bypass.   \n",
              "3   This is a 66-year-old male with signs and sym...   \n",
              "\n",
              "             medical_specialty                                sample_name  \\\n",
              "0   Cosmetic / Plastic Surgery                     Nipple Reconstruction    \n",
              "1                   Bariatrics               Laparoscopic Gastric Bypass    \n",
              "2                   Bariatrics   Laparoscopic Gastric Bypass Consult - 1    \n",
              "3                      Urology                         Urinary Retention    \n",
              "\n",
              "                                       transcription  \\\n",
              "0  PREOPERATIVE DIAGNOSES,1.  Surgical absence of...   \n",
              "1  PREOPERATIVE DIAGNOSIS: , Morbid obesity.,POST...   \n",
              "2  HISTORY OF PRESENT ILLNESS: , I have seen ABC ...   \n",
              "3  CHIEF COMPLAINT:,  Urinary retention.,HISTORY ...   \n",
              "\n",
              "                                            keywords  \n",
              "0  cosmetic / plastic surgery, nipple areola, bre...  \n",
              "1  bariatrics, gastric bypass, eea anastomosis, r...  \n",
              "2  bariatrics, laparoscopic gastric bypass, heart...  \n",
              "3                                                NaN  "
            ],
            "text/html": [
              "\n",
              "  <div id=\"df-5fa03018-2523-4807-8ef0-7b7cf45f7515\" class=\"colab-df-container\">\n",
              "    <div>\n",
              "<style scoped>\n",
              "    .dataframe tbody tr th:only-of-type {\n",
              "        vertical-align: middle;\n",
              "    }\n",
              "\n",
              "    .dataframe tbody tr th {\n",
              "        vertical-align: top;\n",
              "    }\n",
              "\n",
              "    .dataframe thead th {\n",
              "        text-align: right;\n",
              "    }\n",
              "</style>\n",
              "<table border=\"1\" class=\"dataframe\">\n",
              "  <thead>\n",
              "    <tr style=\"text-align: right;\">\n",
              "      <th></th>\n",
              "      <th>description</th>\n",
              "      <th>medical_specialty</th>\n",
              "      <th>sample_name</th>\n",
              "      <th>transcription</th>\n",
              "      <th>keywords</th>\n",
              "    </tr>\n",
              "  </thead>\n",
              "  <tbody>\n",
              "    <tr>\n",
              "      <th>0</th>\n",
              "      <td>Nipple areolar reconstruction utilizing a ful...</td>\n",
              "      <td>Cosmetic / Plastic Surgery</td>\n",
              "      <td>Nipple Reconstruction</td>\n",
              "      <td>PREOPERATIVE DIAGNOSES,1.  Surgical absence of...</td>\n",
              "      <td>cosmetic / plastic surgery, nipple areola, bre...</td>\n",
              "    </tr>\n",
              "    <tr>\n",
              "      <th>1</th>\n",
              "      <td>Morbid obesity.  Laparoscopic antecolic anteg...</td>\n",
              "      <td>Bariatrics</td>\n",
              "      <td>Laparoscopic Gastric Bypass</td>\n",
              "      <td>PREOPERATIVE DIAGNOSIS: , Morbid obesity.,POST...</td>\n",
              "      <td>bariatrics, gastric bypass, eea anastomosis, r...</td>\n",
              "    </tr>\n",
              "    <tr>\n",
              "      <th>2</th>\n",
              "      <td>Consult for laparoscopic gastric bypass.</td>\n",
              "      <td>Bariatrics</td>\n",
              "      <td>Laparoscopic Gastric Bypass Consult - 1</td>\n",
              "      <td>HISTORY OF PRESENT ILLNESS: , I have seen ABC ...</td>\n",
              "      <td>bariatrics, laparoscopic gastric bypass, heart...</td>\n",
              "    </tr>\n",
              "    <tr>\n",
              "      <th>3</th>\n",
              "      <td>This is a 66-year-old male with signs and sym...</td>\n",
              "      <td>Urology</td>\n",
              "      <td>Urinary Retention</td>\n",
              "      <td>CHIEF COMPLAINT:,  Urinary retention.,HISTORY ...</td>\n",
              "      <td>NaN</td>\n",
              "    </tr>\n",
              "  </tbody>\n",
              "</table>\n",
              "</div>\n",
              "    <div class=\"colab-df-buttons\">\n",
              "\n",
              "  <div class=\"colab-df-container\">\n",
              "    <button class=\"colab-df-convert\" onclick=\"convertToInteractive('df-5fa03018-2523-4807-8ef0-7b7cf45f7515')\"\n",
              "            title=\"Convert this dataframe to an interactive table.\"\n",
              "            style=\"display:none;\">\n",
              "\n",
              "  <svg xmlns=\"http://www.w3.org/2000/svg\" height=\"24px\" viewBox=\"0 -960 960 960\">\n",
              "    <path d=\"M120-120v-720h720v720H120Zm60-500h600v-160H180v160Zm220 220h160v-160H400v160Zm0 220h160v-160H400v160ZM180-400h160v-160H180v160Zm440 0h160v-160H620v160ZM180-180h160v-160H180v160Zm440 0h160v-160H620v160Z\"/>\n",
              "  </svg>\n",
              "    </button>\n",
              "\n",
              "  <style>\n",
              "    .colab-df-container {\n",
              "      display:flex;\n",
              "      gap: 12px;\n",
              "    }\n",
              "\n",
              "    .colab-df-convert {\n",
              "      background-color: #E8F0FE;\n",
              "      border: none;\n",
              "      border-radius: 50%;\n",
              "      cursor: pointer;\n",
              "      display: none;\n",
              "      fill: #1967D2;\n",
              "      height: 32px;\n",
              "      padding: 0 0 0 0;\n",
              "      width: 32px;\n",
              "    }\n",
              "\n",
              "    .colab-df-convert:hover {\n",
              "      background-color: #E2EBFA;\n",
              "      box-shadow: 0px 1px 2px rgba(60, 64, 67, 0.3), 0px 1px 3px 1px rgba(60, 64, 67, 0.15);\n",
              "      fill: #174EA6;\n",
              "    }\n",
              "\n",
              "    .colab-df-buttons div {\n",
              "      margin-bottom: 4px;\n",
              "    }\n",
              "\n",
              "    [theme=dark] .colab-df-convert {\n",
              "      background-color: #3B4455;\n",
              "      fill: #D2E3FC;\n",
              "    }\n",
              "\n",
              "    [theme=dark] .colab-df-convert:hover {\n",
              "      background-color: #434B5C;\n",
              "      box-shadow: 0px 1px 3px 1px rgba(0, 0, 0, 0.15);\n",
              "      filter: drop-shadow(0px 1px 2px rgba(0, 0, 0, 0.3));\n",
              "      fill: #FFFFFF;\n",
              "    }\n",
              "  </style>\n",
              "\n",
              "    <script>\n",
              "      const buttonEl =\n",
              "        document.querySelector('#df-5fa03018-2523-4807-8ef0-7b7cf45f7515 button.colab-df-convert');\n",
              "      buttonEl.style.display =\n",
              "        google.colab.kernel.accessAllowed ? 'block' : 'none';\n",
              "\n",
              "      async function convertToInteractive(key) {\n",
              "        const element = document.querySelector('#df-5fa03018-2523-4807-8ef0-7b7cf45f7515');\n",
              "        const dataTable =\n",
              "          await google.colab.kernel.invokeFunction('convertToInteractive',\n",
              "                                                    [key], {});\n",
              "        if (!dataTable) return;\n",
              "\n",
              "        const docLinkHtml = 'Like what you see? Visit the ' +\n",
              "          '<a target=\"_blank\" href=https://colab.research.google.com/notebooks/data_table.ipynb>data table notebook</a>'\n",
              "          + ' to learn more about interactive tables.';\n",
              "        element.innerHTML = '';\n",
              "        dataTable['output_type'] = 'display_data';\n",
              "        await google.colab.output.renderOutput(dataTable, element);\n",
              "        const docLink = document.createElement('div');\n",
              "        docLink.innerHTML = docLinkHtml;\n",
              "        element.appendChild(docLink);\n",
              "      }\n",
              "    </script>\n",
              "  </div>\n",
              "\n",
              "\n",
              "    <div id=\"df-e2dad049-e25f-43c6-a173-e7b6b3850af0\">\n",
              "      <button class=\"colab-df-quickchart\" onclick=\"quickchart('df-e2dad049-e25f-43c6-a173-e7b6b3850af0')\"\n",
              "                title=\"Suggest charts\"\n",
              "                style=\"display:none;\">\n",
              "\n",
              "<svg xmlns=\"http://www.w3.org/2000/svg\" height=\"24px\"viewBox=\"0 0 24 24\"\n",
              "     width=\"24px\">\n",
              "    <g>\n",
              "        <path d=\"M19 3H5c-1.1 0-2 .9-2 2v14c0 1.1.9 2 2 2h14c1.1 0 2-.9 2-2V5c0-1.1-.9-2-2-2zM9 17H7v-7h2v7zm4 0h-2V7h2v10zm4 0h-2v-4h2v4z\"/>\n",
              "    </g>\n",
              "</svg>\n",
              "      </button>\n",
              "\n",
              "<style>\n",
              "  .colab-df-quickchart {\n",
              "      --bg-color: #E8F0FE;\n",
              "      --fill-color: #1967D2;\n",
              "      --hover-bg-color: #E2EBFA;\n",
              "      --hover-fill-color: #174EA6;\n",
              "      --disabled-fill-color: #AAA;\n",
              "      --disabled-bg-color: #DDD;\n",
              "  }\n",
              "\n",
              "  [theme=dark] .colab-df-quickchart {\n",
              "      --bg-color: #3B4455;\n",
              "      --fill-color: #D2E3FC;\n",
              "      --hover-bg-color: #434B5C;\n",
              "      --hover-fill-color: #FFFFFF;\n",
              "      --disabled-bg-color: #3B4455;\n",
              "      --disabled-fill-color: #666;\n",
              "  }\n",
              "\n",
              "  .colab-df-quickchart {\n",
              "    background-color: var(--bg-color);\n",
              "    border: none;\n",
              "    border-radius: 50%;\n",
              "    cursor: pointer;\n",
              "    display: none;\n",
              "    fill: var(--fill-color);\n",
              "    height: 32px;\n",
              "    padding: 0;\n",
              "    width: 32px;\n",
              "  }\n",
              "\n",
              "  .colab-df-quickchart:hover {\n",
              "    background-color: var(--hover-bg-color);\n",
              "    box-shadow: 0 1px 2px rgba(60, 64, 67, 0.3), 0 1px 3px 1px rgba(60, 64, 67, 0.15);\n",
              "    fill: var(--button-hover-fill-color);\n",
              "  }\n",
              "\n",
              "  .colab-df-quickchart-complete:disabled,\n",
              "  .colab-df-quickchart-complete:disabled:hover {\n",
              "    background-color: var(--disabled-bg-color);\n",
              "    fill: var(--disabled-fill-color);\n",
              "    box-shadow: none;\n",
              "  }\n",
              "\n",
              "  .colab-df-spinner {\n",
              "    border: 2px solid var(--fill-color);\n",
              "    border-color: transparent;\n",
              "    border-bottom-color: var(--fill-color);\n",
              "    animation:\n",
              "      spin 1s steps(1) infinite;\n",
              "  }\n",
              "\n",
              "  @keyframes spin {\n",
              "    0% {\n",
              "      border-color: transparent;\n",
              "      border-bottom-color: var(--fill-color);\n",
              "      border-left-color: var(--fill-color);\n",
              "    }\n",
              "    20% {\n",
              "      border-color: transparent;\n",
              "      border-left-color: var(--fill-color);\n",
              "      border-top-color: var(--fill-color);\n",
              "    }\n",
              "    30% {\n",
              "      border-color: transparent;\n",
              "      border-left-color: var(--fill-color);\n",
              "      border-top-color: var(--fill-color);\n",
              "      border-right-color: var(--fill-color);\n",
              "    }\n",
              "    40% {\n",
              "      border-color: transparent;\n",
              "      border-right-color: var(--fill-color);\n",
              "      border-top-color: var(--fill-color);\n",
              "    }\n",
              "    60% {\n",
              "      border-color: transparent;\n",
              "      border-right-color: var(--fill-color);\n",
              "    }\n",
              "    80% {\n",
              "      border-color: transparent;\n",
              "      border-right-color: var(--fill-color);\n",
              "      border-bottom-color: var(--fill-color);\n",
              "    }\n",
              "    90% {\n",
              "      border-color: transparent;\n",
              "      border-bottom-color: var(--fill-color);\n",
              "    }\n",
              "  }\n",
              "</style>\n",
              "\n",
              "      <script>\n",
              "        async function quickchart(key) {\n",
              "          const quickchartButtonEl =\n",
              "            document.querySelector('#' + key + ' button');\n",
              "          quickchartButtonEl.disabled = true;  // To prevent multiple clicks.\n",
              "          quickchartButtonEl.classList.add('colab-df-spinner');\n",
              "          try {\n",
              "            const charts = await google.colab.kernel.invokeFunction(\n",
              "                'suggestCharts', [key], {});\n",
              "          } catch (error) {\n",
              "            console.error('Error during call to suggestCharts:', error);\n",
              "          }\n",
              "          quickchartButtonEl.classList.remove('colab-df-spinner');\n",
              "          quickchartButtonEl.classList.add('colab-df-quickchart-complete');\n",
              "        }\n",
              "        (() => {\n",
              "          let quickchartButtonEl =\n",
              "            document.querySelector('#df-e2dad049-e25f-43c6-a173-e7b6b3850af0 button');\n",
              "          quickchartButtonEl.style.display =\n",
              "            google.colab.kernel.accessAllowed ? 'block' : 'none';\n",
              "        })();\n",
              "      </script>\n",
              "    </div>\n",
              "\n",
              "    </div>\n",
              "  </div>\n"
            ],
            "application/vnd.google.colaboratory.intrinsic+json": {
              "type": "dataframe",
              "variable_name": "df",
              "summary": "{\n  \"name\": \"df\",\n  \"rows\": 4,\n  \"fields\": [\n    {\n      \"column\": \"description\",\n      \"properties\": {\n        \"dtype\": \"string\",\n        \"num_unique_values\": 4,\n        \"samples\": [\n          \" Morbid obesity.  Laparoscopic antecolic antegastric Roux-en-Y gastric bypass with EEA anastomosis.  This is a 30-year-old female, who has been overweight for many years.  She has tried many different diets, but is unsuccessful. \",\n          \" This is a 66-year-old male with signs and symptoms of benign prostatic hypertrophy, who has had recurrent urinary retention since his kidney transplant.  He passed his fill and pull study and was thought to self-catheterize in the event that he does incur urinary retention again.\",\n          \" Nipple areolar reconstruction utilizing a full-thickness skin graft and mastopexy\"\n        ],\n        \"semantic_type\": \"\",\n        \"description\": \"\"\n      }\n    },\n    {\n      \"column\": \"medical_specialty\",\n      \"properties\": {\n        \"dtype\": \"string\",\n        \"num_unique_values\": 3,\n        \"samples\": [\n          \" Cosmetic / Plastic Surgery\",\n          \" Bariatrics\",\n          \" Urology\"\n        ],\n        \"semantic_type\": \"\",\n        \"description\": \"\"\n      }\n    },\n    {\n      \"column\": \"sample_name\",\n      \"properties\": {\n        \"dtype\": \"string\",\n        \"num_unique_values\": 4,\n        \"samples\": [\n          \" Laparoscopic Gastric Bypass \",\n          \" Urinary Retention \",\n          \" Nipple Reconstruction \"\n        ],\n        \"semantic_type\": \"\",\n        \"description\": \"\"\n      }\n    },\n    {\n      \"column\": \"transcription\",\n      \"properties\": {\n        \"dtype\": \"string\",\n        \"num_unique_values\": 4,\n        \"samples\": [\n          \"PREOPERATIVE DIAGNOSIS: , Morbid obesity.,POSTOPERATIVE DIAGNOSIS:  ,Morbid obesity.,PROCEDURE: , Laparoscopic antecolic antegastric Roux-en-Y gastric bypass with EEA anastomosis.,ANESTHESIA: , General with endotracheal intubation.,INDICATION FOR PROCEDURE: , This is a 30-year-old female, who has been overweight for many years.  She has tried many different diets, but is unsuccessful.  She has been to our Bariatric Surgery Seminar, received some handouts, and signed the consent.  The risks and benefits of the procedure have been explained to the patient.,PROCEDURE IN DETAIL:  ,The patient was taken to the operating room and placed supine on the operating room table.  All pressure points were carefully padded.  She was given general anesthesia with endotracheal intubation.  SCD stockings were placed on both legs.  Foley catheter was placed for bladder decompression.  The abdomen was then prepped and draped in standard sterile surgical fashion.  Marcaine was then injected through umbilicus.  A small incision was made.  A Veress needle was introduced into the abdomen.  CO2 insufflation was done to a maximum pressure of 15 mmHg.  A 12-mm VersaStep port was placed through the umbilicus.  I then placed a 5-mm port just anterior to the midaxillary line and just subcostal on the right side.  I placed another 5-mm port in the midclavicular line just subcostal on the right side, a few centimeters below and medial to that, I placed a 12-mm VersaStep port.  On the left side, just anterior to the midaxillary line and just subcostal, I placed a 5-mm port.  A few centimeters below and medial to that, I placed a 15-mm port.  I began by lifting up the omentum and identifying the transverse colon and lifting that up and thereby identifying my ligament of Treitz.  I ran the small bowel down approximately 40 cm and divided the small bowel with a white load GIA stapler.  I then divided the mesentery all the way down to the base of the mesentery with a LigaSure device.  I then ran the distal bowel down, approximately 100 cm, and at 100 cm, I made a hole at the antimesenteric portion of the Roux limb and a hole in the antimesenteric portion of the duodenogastric limb, and I passed a 45 white load stapler and fired a stapler creating a side-to-side anastomosis.  I reapproximated the edges of the defect.  I lifted it up and stapled across it with another white load stapler.  I then closed the mesenteric defect with interrupted Surgidac sutures.  I divided the omentum all the way down to the colon in order to create a passageway for my small bowel to go antecolic.  I then put the patient in reverse Trendelenburg.  I placed a liver retractor, identified, and dissected the angle of His.  I then dissected on the lesser curve, approximately 2.5 cm below the gastroesophageal junction, and got into a lesser space.  I fired transversely across the stomach with a 45 blue load stapler.  I then used two fires of the 60 blue load with SeamGuard to go up into my angle of His, thereby creating my gastric pouch.  I then made a hole at the base of the gastric pouch and had Anesthesia remove the bougie and place the OG tube connected to the anvil.  I pulled the anvil into place, and I then opened up my 15-mm port site and passed my EEA stapler.  I passed that in the end of my Roux limb and had the spike come out antimesenteric.  I joined the spike with the anvil and fired a stapler creating an end-to-side anastomosis, then divided across the redundant portion of my Roux limb with a white load GI stapler, and removed it with an Endocatch bag.  I put some additional 2-0 Vicryl sutures in the anastomosis for further security.  I then placed a bowel clamp across the bowel.  I went above and passed an EGD scope into the mouth down to the esophagus and into the gastric pouch.  I distended gastric pouch with air.  There was no air leak seen.  I could pass the scope easily through the anastomosis.  There was no bleeding seen through the scope.  We closed the 15-mm port site with interrupted 0 Vicryl suture utilizing Carter-Thomason.  I copiously irrigated out that incision with about 2 L of saline.  I then closed the skin of all incisions with running Monocryl.  Sponge, instrument, and needle counts were correct at the end of the case.  The patient tolerated the procedure well without any complications.\",\n          \"CHIEF COMPLAINT:,  Urinary retention.,HISTORY OF PRESENT ILLNESS: , This is a 66-year-old gentleman status post deceased donor kidney transplant in 12/07, who has had recurrent urinary retention issues since that time.  Most recently, he was hospitalized on 02/04/08 for acute renal insufficiency, which was probably secondary to dehydration.  He was seen by urology again at this visit for urinary retention.  He had been seen by urology during a previous hospitalization and he passed his voiding trial at the time of his stent removal on 01/22/08.  Cystoscopy showed at that time obstructive BPH.  He was started on Flomax at the time of discharge from the hospital.  During the most recent readmission on 02/04/08, he went back into urinary retention and he had had a Foley placed at the outside hospital.,REVIEW OF SYSTEMS:,  Positive for blurred vision, nasal congestion, and occasional constipation.  Denies chest pain, shortness of breath or any rashes or lesions.  All other systems were reviewed and found to be negative.,PAST MEDICAL HISTORY:,1.  End-stage renal disease, now status post deceased donor kidney transplant in 12/07.,2.  Hypertension.,3.  History of nephrolithiasis.,4.  Gout.,5.  BPH.,6.  DJD.,PAST SURGICAL HISTORY:,1.  Deceased donor kidney transplant in 12/07.,2.  Left forearm and left upper arm fistula placements.,FAMILY HISTORY:  ,Significant for mother with an unknown type of cancer, possibly colon cancer or lung and prostate problems on his father side of the family.  He does not know whether his father side of the family had any history of prostate cancer.,HOME MEDICATIONS:,1.  Norvasc.,2.  Toprol 50 mg.,3.  Clonidine 0.2 mg.,4.  Hydralazine.,5.  Flomax.,6.  Allopurinol.,7.  Sodium bicarbonate.,8.  Oxybutynin.,9.  Coumadin.,10.  Aspirin.,11.  Insulin 70/30.,12.  Omeprazole.,13.  Rapamune.,14.  CellCept.,15.  Prednisone.,16.  Ganciclovir.,17.  Nystatin swish and swallow.,18.  Dapsone.,19.  Finasteride.,ALLERGIES:,  No known drug allergies.,PHYSICAL EXAMINATION:,GENERAL:  This is a well-developed, well-nourished male, in no acute distress.  VITAL SIGNS:  Temperature 98, blood pressure 129/72, pulse 96, and weight 175.4 pounds.  LUNGS:  Clear to auscultation bilaterally.  CARDIOVASCULAR:  Regular rate and rhythm with a 3/6 systolic murmur.  ABDOMEN:  Right lower quadrant incision site scar well healed.  Nontender to palpation.  Liver and spleen not enlarged.  No hernias appreciated.  PENIS:  Normal male genitalia.  No lesions appreciated on the penis.  Previous DRE showed the prostate of approximately 40 grams and no nodules.  Foley in place and draining clear urine.,The patient underwent fill and pull study, in which his bladder tolerated 120 ml of sterile water passively filling his bladder.  He spontaneously voided without the Foley 110 mL.,ASSESSMENT AND PLAN:  ,This is a 66-year-old male with signs and symptoms of benign prostatic hypertrophy, who has had recurrent urinary retention since the kidney transplant in 12/07.  He passed his fill and pull study and was thought to self-catheterize in the event that he does incur urinary retention again.  We discussed with Mr. Barker that he has a urologist closer to his home and he lives approximately 3 hours away; however, he desires to continue follow up with the urology clinic at MCG and has been set up for followup in 6 weeks.  He was also given a prescription for 6 months of Flomax and Proscar.  He did not have a PSA drawn today as he had a catheter in place, therefore his PSA could be falsely elevated.  He will have PSA level drawn either just before his visit for followup.\",\n          \"PREOPERATIVE DIAGNOSES,1.  Surgical absence of left nipple areola with personal history of breast cancer.,2.  Breast asymmetry.,POSTOPERATIVE DIAGNOSES,1.  Surgical absence of left nipple areola with personal history of breast cancer.,2.  Breast asymmetry.,PROCEDURE,1.  Left nipple areolar reconstruction utilizing a full-thickness skin graft from the left groin.,2.  Redo right mastopexy.,ANESTHESIA,General endotracheal.,COMPLICATIONS,None.,DESCRIPTION OF PROCEDURE IN DETAIL,The patient was brought to the operating room and placed on the table in the supine position and after suitable induction of general endotracheal anesthesia, the patient was placed in a frog-leg position and prepped and draped in usual fashion for the above-noted procedure.  The initial portion of the procedure was harvesting a full-thickness skin graft from the left groin region.  This was accomplished by ellipsing out a 42-mm diameter circle of skin just below the thigh, peroneal crease.  The defect was then closed with 3-0 Vicryl followed by 3-0 chromic suture in a running locked fashion.  The area was dressed with antibiotic ointment and then a Peri-Pad.  The patient's legs were brought out frog-leg back to the midline and sterile towels were placed over the opening in the drapes.  Surgical team's gloves were changed and then attention was turned to the planning of the left nipple flap.,A maltese cross pattern was employed with a 1-cm diameter nipple and a 42-mm diameter nipple areolar complex.  Once the maltese cross had been designed on the breast at the point where the nipple was to be placed, the areas of the portion of flap were de-epithelialized.  Then, when this had been completed, the dermis about the maltese cross was incised full thickness to allow mobilization of the flap to form the neonipple.  At this point, a Bovie electrocautery was used to control bleeding points and then 4-0 chromic suture was used to suture the arms of the flap together creating the nipple.  When this had been completed, the skin graft, which had been harvested from the left groin was brought onto the field where it was prepared by removing all subcutaneous tissue from the posterior aspect of the graft and carefully removing the hair follicles encountered within the graft.  At this point, the graft was sutured into position in the defect using 3-0 chromic in an interrupted fashion and then trimming the ellipse to an appropriate circle to fill the areola.  At this point, 4-0 chromic was used to run around the perimeter of the full-thickness skin graft and then at this point the nipple was delivered through a cruciate incision in the middle of the skin graft and then inset appropriately with 4-0 chromic.  The areolar skin graft was pie crusted.  Then, at this point, the area of areola was dressed with silicone gel sheeting.  A silo was placed over the neonipple with 3-0 nylon through the apex of the neonipple to support the nipple in an erect position.  Mastisol and Steri-Strips were then applied.,At this point, attention was turned to the right breast where a 2-cm wide ellipse transversely oriented and with its inferior most aspect just inferior to the transverse mastopexy incision line was made.  The skin was removed from the area and then a layered closure of 3-0 Vicryl followed by 3-0 PDS in a running subcuticular fashion was carried out.  When this had been completed, the Mastisol and Steri-Strips were applied to the transverse right breast incision.  Fluff dressings were applied to the right breast as well as the area around the silo on the left breast around the reconstructed nipple areola.  The patient was then placed in Surgi-Bra and then was taken from the operating room to the recovery room in good condition.\"\n        ],\n        \"semantic_type\": \"\",\n        \"description\": \"\"\n      }\n    },\n    {\n      \"column\": \"keywords\",\n      \"properties\": {\n        \"dtype\": \"string\",\n        \"num_unique_values\": 3,\n        \"samples\": [\n          \"cosmetic / plastic surgery, nipple areola, breast asymmetry, general endotracheal, peri-pad, surgi-bra, breast cancer, frog-leg position, full-thickness skin graft, general endotracheal anesthesia, mastopexy, nipple areolar complex, nipple areolar reconstruction, nipple flap, prepped and draped, transverse mastopexy, areolar reconstruction, skin graft, graft, nipple, areolar, breast\",\n          \"bariatrics, gastric bypass, eea anastomosis, roux-en-y, antegastric, antecolic, morbid obesity, roux limb, gastric pouch, intubation, laparoscopic, bypass, roux, endotracheal, anastomosis, gastric\",\n          \"bariatrics, laparoscopic gastric bypass, heart attacks, body weight, pulmonary embolism, potential complications, sleep study, weight loss, gastric bypass, anastomosis, loss, sleep, laparoscopic, gastric, bypass, heart, pounds, weight,\"\n        ],\n        \"semantic_type\": \"\",\n        \"description\": \"\"\n      }\n    }\n  ]\n}"
            }
          },
          "metadata": {},
          "execution_count": 6
        }
      ]
    },
    {
      "cell_type": "code",
      "source": [
        "#doc = df['transcription'][3]\n",
        "#doc"
      ],
      "metadata": {
        "colab": {
          "base_uri": "https://localhost:8080/",
          "height": 574
        },
        "id": "2ITeFlI7k9gJ",
        "outputId": "6140f08d-71e2-434c-9842-a10b80c61933"
      },
      "execution_count": null,
      "outputs": [
        {
          "output_type": "execute_result",
          "data": {
            "text/plain": [
              "'CHIEF COMPLAINT:,  Urinary retention.,HISTORY OF PRESENT ILLNESS: , This is a 66-year-old gentleman status post deceased donor kidney transplant in 12/07, who has had recurrent urinary retention issues since that time.  Most recently, he was hospitalized on 02/04/08 for acute renal insufficiency, which was probably secondary to dehydration.  He was seen by urology again at this visit for urinary retention.  He had been seen by urology during a previous hospitalization and he passed his voiding trial at the time of his stent removal on 01/22/08.  Cystoscopy showed at that time obstructive BPH.  He was started on Flomax at the time of discharge from the hospital.  During the most recent readmission on 02/04/08, he went back into urinary retention and he had had a Foley placed at the outside hospital.,REVIEW OF SYSTEMS:,  Positive for blurred vision, nasal congestion, and occasional constipation.  Denies chest pain, shortness of breath or any rashes or lesions.  All other systems were reviewed and found to be negative.,PAST MEDICAL HISTORY:,1.  End-stage renal disease, now status post deceased donor kidney transplant in 12/07.,2.  Hypertension.,3.  History of nephrolithiasis.,4.  Gout.,5.  BPH.,6.  DJD.,PAST SURGICAL HISTORY:,1.  Deceased donor kidney transplant in 12/07.,2.  Left forearm and left upper arm fistula placements.,FAMILY HISTORY:  ,Significant for mother with an unknown type of cancer, possibly colon cancer or lung and prostate problems on his father side of the family.  He does not know whether his father side of the family had any history of prostate cancer.,HOME MEDICATIONS:,1.  Norvasc.,2.  Toprol 50 mg.,3.  Clonidine 0.2 mg.,4.  Hydralazine.,5.  Flomax.,6.  Allopurinol.,7.  Sodium bicarbonate.,8.  Oxybutynin.,9.  Coumadin.,10.  Aspirin.,11.  Insulin 70/30.,12.  Omeprazole.,13.  Rapamune.,14.  CellCept.,15.  Prednisone.,16.  Ganciclovir.,17.  Nystatin swish and swallow.,18.  Dapsone.,19.  Finasteride.,ALLERGIES:,  No known drug allergies.,PHYSICAL EXAMINATION:,GENERAL:  This is a well-developed, well-nourished male, in no acute distress.  VITAL SIGNS:  Temperature 98, blood pressure 129/72, pulse 96, and weight 175.4 pounds.  LUNGS:  Clear to auscultation bilaterally.  CARDIOVASCULAR:  Regular rate and rhythm with a 3/6 systolic murmur.  ABDOMEN:  Right lower quadrant incision site scar well healed.  Nontender to palpation.  Liver and spleen not enlarged.  No hernias appreciated.  PENIS:  Normal male genitalia.  No lesions appreciated on the penis.  Previous DRE showed the prostate of approximately 40 grams and no nodules.  Foley in place and draining clear urine.,The patient underwent fill and pull study, in which his bladder tolerated 120 ml of sterile water passively filling his bladder.  He spontaneously voided without the Foley 110 mL.,ASSESSMENT AND PLAN:  ,This is a 66-year-old male with signs and symptoms of benign prostatic hypertrophy, who has had recurrent urinary retention since the kidney transplant in 12/07.  He passed his fill and pull study and was thought to self-catheterize in the event that he does incur urinary retention again.  We discussed with Mr. Barker that he has a urologist closer to his home and he lives approximately 3 hours away; however, he desires to continue follow up with the urology clinic at MCG and has been set up for followup in 6 weeks.  He was also given a prescription for 6 months of Flomax and Proscar.  He did not have a PSA drawn today as he had a catheter in place, therefore his PSA could be falsely elevated.  He will have PSA level drawn either just before his visit for followup.'"
            ],
            "application/vnd.google.colaboratory.intrinsic+json": {
              "type": "string"
            }
          },
          "metadata": {},
          "execution_count": 79
        }
      ]
    },
    {
      "cell_type": "code",
      "source": [
        "# help print the result more nicely\n",
        "def wrap(x):\n",
        "    return textwrap.fill(x, replace_whitespace = False, fix_sentence_endings = True)"
      ],
      "metadata": {
        "id": "XAGX_Q0qlA9a"
      },
      "execution_count": null,
      "outputs": []
    },
    {
      "cell_type": "code",
      "source": [
        "import nltk\n",
        "#nltk.download('punkt_tab')\n",
        "#nltk.download('stopwords')"
      ],
      "metadata": {
        "id": "lHbdtFHDlF6w"
      },
      "execution_count": null,
      "outputs": []
    },
    {
      "cell_type": "code",
      "source": [
        "#create an TFIDF object\n",
        "featurizer = TfidfVectorizer(\n",
        "    stop_words=stopwords.words('english'),\n",
        "    norm='l1',\n",
        ")"
      ],
      "metadata": {
        "id": "Pcr2H8Y9lEVz"
      },
      "execution_count": null,
      "outputs": []
    },
    {
      "cell_type": "code",
      "source": [
        "def summarize(doc):\n",
        "\n",
        "  cleaned_text = re.sub(r'\\b(SUBJECT:|SUBJECTIVE:|MEDICATIONS:|ALLERGIES:|OBJECTIVE:|ASSESSMENT:|PLAN:)[\\s,]*', '', doc)\n",
        "\n",
        "  cleaned_text = re.sub(r'^[A-Z\\s]+:?[ \\t\\r\\f\\v,]*', '', doc, flags=re.MULTILINE)\n",
        "  cleaned_text = re.sub(r'^[A-Z\\s]+:?[\\s,]*', '', doc, flags=re.MULTILINE)\n",
        "# Now split the cleaned text into sentences\n",
        "  sents = nltk.sent_tokenize(cleaned_text)\n",
        "\n",
        "  title = sents[0]\n",
        "  sents = sents[1:]\n",
        "\n",
        "  X = featurizer.fit_transform(sents)\n",
        "  S = cosine_similarity(X)\n",
        "  S /= S.sum(axis = 1, keepdims = True)\n",
        "  S[0].sum()\n",
        "  U = np.ones_like(S) / len(S)\n",
        "  U[0].sum()\n",
        "  factor  = 0.15\n",
        "  S = (1 - factor) * S + factor * U\n",
        "  eigenvals, eigenvecs = np.linalg.eig(S.T)\n",
        "  eigenvecs[:,0].dot(S)\n",
        "  scores = eigenvecs[:,0] / eigenvecs[:,0].sum()\n",
        "  sort_idx = np.argsort(-scores)\n",
        "\n",
        "  summarized_text = \"\"\n",
        "#  print(\"Generated summary:\")\n",
        "  for i in sort_idx[:15]:\n",
        "    summarized_text += \" \" + sents[i]\n",
        "  #  print(wrap(\"%.2f: %s\" % (scores[i], sents[i])))\n",
        "  return summarized_text\n"
      ],
      "metadata": {
        "id": "-KjFAhRitUej"
      },
      "execution_count": null,
      "outputs": []
    },
    {
      "cell_type": "code",
      "source": [
        "summarized_text_list = []\n",
        "for doc in df['transcription']:\n",
        "  summarized_text_list.append(summarize(doc))\n",
        "summarized_text_list"
      ],
      "metadata": {
        "colab": {
          "base_uri": "https://localhost:8080/"
        },
        "id": "jz1ZMs3pvaFN",
        "outputId": "3405edd7-b29c-47d7-fce6-e456a095e1f4"
      },
      "execution_count": null,
      "outputs": [
        {
          "output_type": "execute_result",
          "data": {
            "text/plain": [
              "[\" Left nipple areolar reconstruction utilizing a full-thickness skin graft from the left groin.,2. At this point, 4-0 chromic was used to run around the perimeter of the full-thickness skin graft and then at this point the nipple was delivered through a cruciate incision in the middle of the skin graft and then inset appropriately with 4-0 chromic. Surgical absence of left nipple areola with personal history of breast cancer.,2. Surgical absence of left nipple areola with personal history of breast cancer.,2. Fluff dressings were applied to the right breast as well as the area around the silo on the left breast around the reconstructed nipple areola. The initial portion of the procedure was harvesting a full-thickness skin graft from the left groin region. Once the maltese cross had been designed on the breast at the point where the nipple was to be placed, the areas of the portion of flap were de-epithelialized. Surgical team's gloves were changed and then attention was turned to the planning of the left nipple flap.,A maltese cross pattern was employed with a 1-cm diameter nipple and a 42-mm diameter nipple areolar complex. At this point, the graft was sutured into position in the defect using 3-0 chromic in an interrupted fashion and then trimming the ellipse to an appropriate circle to fill the areola. Breast asymmetry.,PROCEDURE,1. Redo right mastopexy.,ANESTHESIA,General endotracheal.,COMPLICATIONS,None.,DESCRIPTION OF PROCEDURE IN DETAIL,The patient was brought to the operating room and placed on the table in the supine position and after suitable induction of general endotracheal anesthesia, the patient was placed in a frog-leg position and prepped and draped in usual fashion for the above-noted procedure. When this had been completed, the Mastisol and Steri-Strips were applied to the transverse right breast incision. Mastisol and Steri-Strips were then applied.,At this point, attention was turned to the right breast where a 2-cm wide ellipse transversely oriented and with its inferior most aspect just inferior to the transverse mastopexy incision line was made. When this had been completed, the skin graft, which had been harvested from the left groin was brought onto the field where it was prepared by removing all subcutaneous tissue from the posterior aspect of the graft and carefully removing the hair follicles encountered within the graft. Then, at this point, the area of areola was dressed with silicone gel sheeting.\",\n",
              " ' I placed another 5-mm port in the midclavicular line just subcostal on the right side, a few centimeters below and medial to that, I placed a 12-mm VersaStep port. I then ran the distal bowel down, approximately 100 cm, and at 100 cm, I made a hole at the antimesenteric portion of the Roux limb and a hole in the antimesenteric portion of the duodenogastric limb, and I passed a 45 white load stapler and fired a stapler creating a side-to-side anastomosis. I joined the spike with the anvil and fired a stapler creating an end-to-side anastomosis, then divided across the redundant portion of my Roux limb with a white load GI stapler, and removed it with an Endocatch bag. A few centimeters below and medial to that, I placed a 15-mm port. I then placed a 5-mm port just anterior to the midaxillary line and just subcostal on the right side. A 12-mm VersaStep port was placed through the umbilicus. On the left side, just anterior to the midaxillary line and just subcostal, I placed a 5-mm port. I ran the small bowel down approximately 40 cm and divided the small bowel with a white load GIA stapler. I pulled the anvil into place, and I then opened up my 15-mm port site and passed my EEA stapler. We closed the 15-mm port site with interrupted 0 Vicryl suture utilizing Carter-Thomason. I then placed a bowel clamp across the bowel. I then made a hole at the base of the gastric pouch and had Anesthesia remove the bougie and place the OG tube connected to the anvil. I went above and passed an EGD scope into the mouth down to the esophagus and into the gastric pouch. I divided the omentum all the way down to the colon in order to create a passageway for my small bowel to go antecolic. I then used two fires of the 60 blue load with SeamGuard to go up into my angle of His, thereby creating my gastric pouch.',\n",
              " ' He will need to go to Dr. XYZ as he previously had a sleep study. After this is performed, we will submit him for insurance approval. He is pursuing surgical attempts of weight loss to feel good, get healthy, and begin to exercise again. If he lost 70% of his excess body weight that would be 129 pounds and that would get him down to 215.,REVIEW OF SYSTEMS: , Negative for head, neck, heart, lungs, GI, GU, orthopedic, or skin. He will need to see a nutritionist and mental health worker. He will need H. pylori testing, thyroid function tests, LFTs, glycosylated hemoglobin, and fasting blood sugar. He currently weighs 344 pounds and 5\\'9\". He smokes one and a half pack a day for 15 years, but he has recently stopped smoking for the past two weeks.,FAMILY HISTORY: , Obesity, heart disease, and diabetes. His abdomen is soft. He is single. He has joint pain, knee pain, back pain, foot and ankle pain, leg and foot swelling. He also is positive for gout. He did six months of not drinking alcohol and not taking in many calories. He wants to proceed with workup and evaluation for laparoscopic Roux-en-Y gastric bypass. He has asthma and difficulty walking two blocks or going eight to ten steps.',\n",
              " ' End-stage renal disease, now status post deceased donor kidney transplant in 12/07.,2. He spontaneously voided without the Foley 110 mL.,ASSESSMENT AND PLAN:  ,This is a 66-year-old male with signs and symptoms of benign prostatic hypertrophy, who has had recurrent urinary retention since the kidney transplant in 12/07. Insulin 70/30.,12. He had been seen by urology during a previous hospitalization and he passed his voiding trial at the time of his stent removal on 01/22/08. No lesions appreciated on the penis. He will have PSA level drawn either just before his visit for followup. During the most recent readmission on 02/04/08, he went back into urinary retention and he had had a Foley placed at the outside hospital.,REVIEW OF SYSTEMS:,  Positive for blurred vision, nasal congestion, and occasional constipation. Flomax.,6. Finasteride.,ALLERGIES:,  No known drug allergies.,PHYSICAL EXAMINATION:,GENERAL:  This is a well-developed, well-nourished male, in no acute distress. We discussed with Mr. Barker that he has a urologist closer to his home and he lives approximately 3 hours away; however, he desires to continue follow up with the urology clinic at MCG and has been set up for followup in 6 weeks. LUNGS:  Clear to auscultation bilaterally. BPH.,6. DJD.,PAST SURGICAL HISTORY:,1. Left forearm and left upper arm fistula placements.,FAMILY HISTORY:  ,Significant for mother with an unknown type of cancer, possibly colon cancer or lung and prostate problems on his father side of the family. History of nephrolithiasis.,4.']"
            ]
          },
          "metadata": {},
          "execution_count": 63
        }
      ]
    },
    {
      "cell_type": "code",
      "source": [
        "#import re\n",
        "#import nltk\n",
        "\n",
        "#doc_text = doc.iloc[0]\n",
        "#cleaned_text = re.sub(r'\\b(SUBJECT:|SUBJECTIVE:|MEDICATIONS:|ALLERGIES:|OBJECTIVE:|ASSESSMENT:|PLAN:)[\\s,]*', '', doc_text)\n",
        "#import re\n",
        "\n",
        "#cleaned_text = re.sub(r'^[A-Z\\s]+:?[ \\t\\r\\f\\v,]*', '', doc_text, flags=re.MULTILINE)\n",
        "#cleaned_text = re.sub(r'^[A-Z\\s]+:?[\\s,]*', '', doc_text, flags=re.MULTILINE)\n",
        "# Now split the cleaned text into sentences\n",
        "#sents = nltk.sent_tokenize(cleaned_text)\n"
      ],
      "metadata": {
        "id": "3Ti6R-ZYl_nP"
      },
      "execution_count": null,
      "outputs": []
    },
    {
      "cell_type": "code",
      "source": [
        "#sents = doc.iloc[0].split(\"\\n\", 1)[1]\n",
        "#title = sents[0]\n",
        "#sents = sents[1:]"
      ],
      "metadata": {
        "id": "kYmksSn_ma07"
      },
      "execution_count": null,
      "outputs": []
    },
    {
      "cell_type": "code",
      "source": [
        "#give us back our TDIDF matrix sentences x words and TFIDF value of each word in this sentence\n",
        "#X = featurizer.fit_transform(sents)"
      ],
      "metadata": {
        "id": "rLPp0Fj5mcUt"
      },
      "execution_count": null,
      "outputs": []
    },
    {
      "cell_type": "code",
      "source": [
        "#S = cosine_similarity(X)"
      ],
      "metadata": {
        "id": "o8AfHc7WmeKb"
      },
      "execution_count": null,
      "outputs": []
    },
    {
      "cell_type": "code",
      "source": [
        "#S /= S.sum(axis = 1, keepdims = True)"
      ],
      "metadata": {
        "id": "7zIDST3tmfup"
      },
      "execution_count": null,
      "outputs": []
    },
    {
      "cell_type": "code",
      "source": [
        "#S[0].sum()"
      ],
      "metadata": {
        "colab": {
          "base_uri": "https://localhost:8080/"
        },
        "id": "GPD0UZ7TmhMP",
        "outputId": "f67616e2-0966-4ef5-b342-67f25f3b78a9"
      },
      "execution_count": null,
      "outputs": [
        {
          "output_type": "execute_result",
          "data": {
            "text/plain": [
              "np.float64(1.0000000000000002)"
            ]
          },
          "metadata": {},
          "execution_count": 16
        }
      ]
    },
    {
      "cell_type": "code",
      "source": [
        "#U = np.ones_like(S) / len(S)\n",
        "#U[0].sum()\n",
        "#factor  = 0.15\n",
        "#S = (1 - factor) * S + factor * U\n",
        "#eigenvals, eigenvecs = np.linalg.eig(S.T)\n",
        "#eigenvecs[:,0].dot(S)\n",
        "#scores = eigenvecs[:,0] / eigenvecs[:,0].sum()\n",
        "#sort_idx = np.argsort(-scores)"
      ],
      "metadata": {
        "id": "WTTQEpcOmj63"
      },
      "execution_count": null,
      "outputs": []
    },
    {
      "cell_type": "code",
      "source": [
        "#summarized_text = \"\"\n",
        "#print(\"Generated summary:\")\n",
        "#for i in sort_idx[:15]:\n",
        "#  summarized_text += \" \" + sents[i]\n",
        "#  print(wrap(\"%.2f: %s\" % (scores[i], sents[i])))"
      ],
      "metadata": {
        "colab": {
          "base_uri": "https://localhost:8080/"
        },
        "id": "HuAhpS1jmur3",
        "outputId": "04a86478-1333-495c-8186-3bded236e11d"
      },
      "execution_count": null,
      "outputs": [
        {
          "output_type": "stream",
          "name": "stdout",
          "text": [
            "Generated summary:\n",
            "1527770604941077.75: End-stage renal disease, now status post deceased\n",
            "donor kidney transplant in 12/07.,2.\n",
            "294561908905109.88: He spontaneously voided without the Foley 110\n",
            "mL.,ASSESSMENT AND PLAN:  ,This is a 66-year-old male with signs and\n",
            "symptoms of benign prostatic hypertrophy, who has had recurrent\n",
            "urinary retention since the kidney transplant in 12/07.\n",
            "67883835776737.99: Insulin 70/30.,12.\n",
            "39459862016672.70: He had been seen by urology during a previous\n",
            "hospitalization and he passed his voiding trial at the time of his\n",
            "stent removal on 01/22/08.\n",
            "21876763477996.28: No lesions appreciated on the penis.\n",
            "19071722928459.69: He will have PSA level drawn either just before his\n",
            "visit for followup.\n",
            "17553243581645.26: During the most recent readmission on 02/04/08, he\n",
            "went back into urinary retention and he had had a Foley placed at the\n",
            "outside hospital.,REVIEW OF SYSTEMS:,  Positive for blurred vision,\n",
            "nasal congestion, and occasional constipation.\n",
            "6779398493502.18: Flomax.,6.\n",
            "3094131183491.43: Finasteride.,ALLERGIES:,  No known drug\n",
            "allergies.,PHYSICAL EXAMINATION:,GENERAL:  This is a well-developed,\n",
            "well-nourished male, in no acute distress.\n",
            "2796124024916.71: We discussed with Mr.  Barker that he has a\n",
            "urologist closer to his home and he lives approximately 3 hours away;\n",
            "however, he desires to continue follow up with the urology clinic at\n",
            "MCG and has been set up for followup in 6 weeks.\n",
            "1589061871825.68: LUNGS:  Clear to auscultation bilaterally.\n",
            "1461441314301.51: BPH.,6.\n",
            "774749660900.92: DJD.,PAST SURGICAL HISTORY:,1.\n",
            "242140912657.73: Left forearm and left upper arm fistula\n",
            "placements.,FAMILY HISTORY:  ,Significant for mother with an unknown\n",
            "type of cancer, possibly colon cancer or lung and prostate problems on\n",
            "his father side of the family.\n",
            "197871000603.12: History of nephrolithiasis.,4.\n"
          ]
        }
      ]
    },
    {
      "cell_type": "markdown",
      "source": [
        "**Named Entity Recognition**"
      ],
      "metadata": {
        "id": "jzz_NEYmToLb"
      }
    },
    {
      "cell_type": "code",
      "source": [
        "!pip install -U spacy\n",
        "!pip install scispacy\n",
        "!pip install https://s3-us-west-2.amazonaws.com/ai2-s2-scispacy/releases/v0.4.0/en_ner_bc5cdr_md-0.4.0.tar.gz"
      ],
      "metadata": {
        "colab": {
          "base_uri": "https://localhost:8080/",
          "height": 1000
        },
        "id": "V3rxBRaqmyu4",
        "outputId": "a9e9d391-5b84-4539-f482-f37adc1abaa0"
      },
      "execution_count": null,
      "outputs": [
        {
          "output_type": "stream",
          "name": "stdout",
          "text": [
            "Requirement already satisfied: spacy in /usr/local/lib/python3.11/dist-packages (3.4.4)\n",
            "Collecting spacy\n",
            "  Using cached spacy-3.8.5-cp311-cp311-manylinux_2_17_x86_64.manylinux2014_x86_64.whl.metadata (27 kB)\n",
            "Requirement already satisfied: spacy-legacy<3.1.0,>=3.0.11 in /usr/local/lib/python3.11/dist-packages (from spacy) (3.0.12)\n",
            "Requirement already satisfied: spacy-loggers<2.0.0,>=1.0.0 in /usr/local/lib/python3.11/dist-packages (from spacy) (1.0.5)\n",
            "Requirement already satisfied: murmurhash<1.1.0,>=0.28.0 in /usr/local/lib/python3.11/dist-packages (from spacy) (1.0.12)\n",
            "Requirement already satisfied: cymem<2.1.0,>=2.0.2 in /usr/local/lib/python3.11/dist-packages (from spacy) (2.0.11)\n",
            "Requirement already satisfied: preshed<3.1.0,>=3.0.2 in /usr/local/lib/python3.11/dist-packages (from spacy) (3.0.9)\n",
            "Collecting thinc<8.4.0,>=8.3.4 (from spacy)\n",
            "  Using cached thinc-8.3.6-cp311-cp311-manylinux_2_17_x86_64.manylinux2014_x86_64.whl.metadata (15 kB)\n",
            "Requirement already satisfied: wasabi<1.2.0,>=0.9.1 in /usr/local/lib/python3.11/dist-packages (from spacy) (0.10.1)\n",
            "Requirement already satisfied: srsly<3.0.0,>=2.4.3 in /usr/local/lib/python3.11/dist-packages (from spacy) (2.5.1)\n",
            "Requirement already satisfied: catalogue<2.1.0,>=2.0.6 in /usr/local/lib/python3.11/dist-packages (from spacy) (2.0.10)\n",
            "Requirement already satisfied: weasel<0.5.0,>=0.1.0 in /usr/local/lib/python3.11/dist-packages (from spacy) (0.4.1)\n",
            "Requirement already satisfied: typer<1.0.0,>=0.3.0 in /usr/local/lib/python3.11/dist-packages (from spacy) (0.7.0)\n",
            "Requirement already satisfied: tqdm<5.0.0,>=4.38.0 in /usr/local/lib/python3.11/dist-packages (from spacy) (4.67.1)\n",
            "Requirement already satisfied: numpy>=1.19.0 in /usr/local/lib/python3.11/dist-packages (from spacy) (2.2.5)\n",
            "Requirement already satisfied: requests<3.0.0,>=2.13.0 in /usr/local/lib/python3.11/dist-packages (from spacy) (2.32.3)\n",
            "Requirement already satisfied: pydantic!=1.8,!=1.8.1,<3.0.0,>=1.7.4 in /usr/local/lib/python3.11/dist-packages (from spacy) (1.10.22)\n",
            "Requirement already satisfied: jinja2 in /usr/local/lib/python3.11/dist-packages (from spacy) (3.1.6)\n",
            "Requirement already satisfied: setuptools in /usr/local/lib/python3.11/dist-packages (from spacy) (75.2.0)\n",
            "Requirement already satisfied: packaging>=20.0 in /usr/local/lib/python3.11/dist-packages (from spacy) (24.2)\n",
            "Requirement already satisfied: langcodes<4.0.0,>=3.2.0 in /usr/local/lib/python3.11/dist-packages (from spacy) (3.5.0)\n",
            "Requirement already satisfied: language-data>=1.2 in /usr/local/lib/python3.11/dist-packages (from langcodes<4.0.0,>=3.2.0->spacy) (1.3.0)\n",
            "Requirement already satisfied: typing-extensions>=4.2.0 in /usr/local/lib/python3.11/dist-packages (from pydantic!=1.8,!=1.8.1,<3.0.0,>=1.7.4->spacy) (4.13.2)\n",
            "Requirement already satisfied: charset-normalizer<4,>=2 in /usr/local/lib/python3.11/dist-packages (from requests<3.0.0,>=2.13.0->spacy) (3.4.1)\n",
            "Requirement already satisfied: idna<4,>=2.5 in /usr/local/lib/python3.11/dist-packages (from requests<3.0.0,>=2.13.0->spacy) (3.10)\n",
            "Requirement already satisfied: urllib3<3,>=1.21.1 in /usr/local/lib/python3.11/dist-packages (from requests<3.0.0,>=2.13.0->spacy) (2.4.0)\n",
            "Requirement already satisfied: certifi>=2017.4.17 in /usr/local/lib/python3.11/dist-packages (from requests<3.0.0,>=2.13.0->spacy) (2025.1.31)\n",
            "Collecting blis<1.4.0,>=1.3.0 (from thinc<8.4.0,>=8.3.4->spacy)\n",
            "  Using cached blis-1.3.0-cp311-cp311-manylinux_2_17_x86_64.manylinux2014_x86_64.whl.metadata (7.4 kB)\n",
            "Requirement already satisfied: confection<1.0.0,>=0.0.1 in /usr/local/lib/python3.11/dist-packages (from thinc<8.4.0,>=8.3.4->spacy) (0.1.5)\n",
            "Collecting pydantic!=1.8,!=1.8.1,<3.0.0,>=1.7.4 (from spacy)\n",
            "  Downloading pydantic-2.11.3-py3-none-any.whl.metadata (65 kB)\n",
            "\u001b[2K     \u001b[90m━━━━━━━━━━━━━━━━━━━━━━━━━━━━━━━━━━━━━━━━\u001b[0m \u001b[32m65.2/65.2 kB\u001b[0m \u001b[31m1.8 MB/s\u001b[0m eta \u001b[36m0:00:00\u001b[0m\n",
            "\u001b[?25hRequirement already satisfied: annotated-types>=0.6.0 in /usr/local/lib/python3.11/dist-packages (from pydantic!=1.8,!=1.8.1,<3.0.0,>=1.7.4->spacy) (0.7.0)\n",
            "Requirement already satisfied: pydantic-core==2.33.1 in /usr/local/lib/python3.11/dist-packages (from pydantic!=1.8,!=1.8.1,<3.0.0,>=1.7.4->spacy) (2.33.1)\n",
            "Requirement already satisfied: typing-inspection>=0.4.0 in /usr/local/lib/python3.11/dist-packages (from pydantic!=1.8,!=1.8.1,<3.0.0,>=1.7.4->spacy) (0.4.0)\n",
            "Requirement already satisfied: click<9.0.0,>=7.1.1 in /usr/local/lib/python3.11/dist-packages (from typer<1.0.0,>=0.3.0->spacy) (8.1.8)\n",
            "Requirement already satisfied: cloudpathlib<1.0.0,>=0.7.0 in /usr/local/lib/python3.11/dist-packages (from weasel<0.5.0,>=0.1.0->spacy) (0.21.0)\n",
            "Requirement already satisfied: smart-open<8.0.0,>=5.2.1 in /usr/local/lib/python3.11/dist-packages (from weasel<0.5.0,>=0.1.0->spacy) (6.4.0)\n",
            "Requirement already satisfied: MarkupSafe>=2.0 in /usr/local/lib/python3.11/dist-packages (from jinja2->spacy) (3.0.2)\n",
            "Requirement already satisfied: marisa-trie>=1.1.0 in /usr/local/lib/python3.11/dist-packages (from language-data>=1.2->langcodes<4.0.0,>=3.2.0->spacy) (1.2.1)\n",
            "Using cached spacy-3.8.5-cp311-cp311-manylinux_2_17_x86_64.manylinux2014_x86_64.whl (30.6 MB)\n",
            "Using cached thinc-8.3.6-cp311-cp311-manylinux_2_17_x86_64.manylinux2014_x86_64.whl (4.5 MB)\n",
            "Downloading pydantic-2.11.3-py3-none-any.whl (443 kB)\n",
            "\u001b[2K   \u001b[90m━━━━━━━━━━━━━━━━━━━━━━━━━━━━━━━━━━━━━━━━\u001b[0m \u001b[32m443.6/443.6 kB\u001b[0m \u001b[31m10.2 MB/s\u001b[0m eta \u001b[36m0:00:00\u001b[0m\n",
            "\u001b[?25hUsing cached blis-1.3.0-cp311-cp311-manylinux_2_17_x86_64.manylinux2014_x86_64.whl (11.7 MB)\n",
            "Installing collected packages: blis, pydantic, thinc, spacy\n",
            "  Attempting uninstall: blis\n",
            "    Found existing installation: blis 0.7.11\n",
            "    Uninstalling blis-0.7.11:\n",
            "      Successfully uninstalled blis-0.7.11\n",
            "  Attempting uninstall: pydantic\n",
            "    Found existing installation: pydantic 1.10.22\n",
            "    Uninstalling pydantic-1.10.22:\n",
            "      Successfully uninstalled pydantic-1.10.22\n",
            "  Attempting uninstall: thinc\n",
            "    Found existing installation: thinc 8.1.12\n",
            "    Uninstalling thinc-8.1.12:\n",
            "      Successfully uninstalled thinc-8.1.12\n",
            "  Attempting uninstall: spacy\n",
            "    Found existing installation: spacy 3.4.4\n",
            "    Uninstalling spacy-3.4.4:\n",
            "      Successfully uninstalled spacy-3.4.4\n",
            "\u001b[31mERROR: pip's dependency resolver does not currently take into account all the packages that are installed. This behaviour is the source of the following dependency conflicts.\n",
            "scispacy 0.5.5 requires spacy<3.8.0,>=3.7.0, but you have spacy 3.8.5 which is incompatible.\n",
            "en-ner-bc5cdr-md 0.5.1 requires spacy<3.5.0,>=3.4.1, but you have spacy 3.8.5 which is incompatible.\u001b[0m\u001b[31m\n",
            "\u001b[0mSuccessfully installed blis-1.3.0 pydantic-2.11.3 spacy-3.8.5 thinc-8.3.6\n"
          ]
        },
        {
          "output_type": "display_data",
          "data": {
            "application/vnd.colab-display-data+json": {
              "pip_warning": {
                "packages": [
                  "blis",
                  "thinc"
                ]
              },
              "id": "f421b99bd25849639ddc124d9d236f8b"
            }
          },
          "metadata": {}
        },
        {
          "output_type": "stream",
          "name": "stdout",
          "text": [
            "Requirement already satisfied: scispacy in /usr/local/lib/python3.11/dist-packages (0.5.5)\n",
            "Collecting spacy<3.8.0,>=3.7.0 (from scispacy)\n",
            "  Using cached spacy-3.7.5-cp311-cp311-manylinux_2_17_x86_64.manylinux2014_x86_64.whl.metadata (27 kB)\n",
            "^C\n",
            "^C\n"
          ]
        }
      ]
    },
    {
      "cell_type": "code",
      "source": [
        "import spacy\n",
        "import scispacy"
      ],
      "metadata": {
        "id": "Xhh2Ce2Tm-y6"
      },
      "execution_count": null,
      "outputs": []
    },
    {
      "cell_type": "code",
      "source": [
        "scispacy_nlp = spacy.load('en_ner_bc5cdr_md')"
      ],
      "metadata": {
        "colab": {
          "base_uri": "https://localhost:8080/"
        },
        "id": "DzzFYhe_nRDI",
        "outputId": "36e2a6e8-c53b-4c85-ac8a-2ad1e0ad6b1d"
      },
      "execution_count": null,
      "outputs": [
        {
          "output_type": "stream",
          "name": "stderr",
          "text": [
            "/usr/local/lib/python3.11/dist-packages/spacy/util.py:910: UserWarning: [W095] Model 'en_ner_bc5cdr_md' (0.5.1) was trained with spaCy v3.4.1 and may not be 100% compatible with the current version (3.8.5). If you see errors or degraded performance, download a newer compatible model or retrain your custom model with the current spaCy version. For more details and available updates, run: python -m spacy validate\n",
            "  warnings.warn(warn_msg)\n"
          ]
        }
      ]
    },
    {
      "cell_type": "code",
      "source": [
        "scispacy_nlp.component_names\n",
        "scispacy_nlp.get_pipe('ner').labels\n"
      ],
      "metadata": {
        "colab": {
          "base_uri": "https://localhost:8080/"
        },
        "id": "4rq25Xd-rDkd",
        "outputId": "eb90df99-230e-430e-c5a3-3655a6cbba42"
      },
      "execution_count": null,
      "outputs": [
        {
          "output_type": "execute_result",
          "data": {
            "text/plain": [
              "('CHEMICAL', 'DISEASE')"
            ]
          },
          "metadata": {},
          "execution_count": 3
        }
      ]
    },
    {
      "cell_type": "code",
      "source": [
        "def NER_summarized_text(summarized_text):\n",
        "  docx = scispacy_nlp(summarized_text)\n",
        "  return displacy.render(docx,style='ent',jupyter=True)"
      ],
      "metadata": {
        "id": "08xTYboj0O6S"
      },
      "execution_count": null,
      "outputs": []
    },
    {
      "cell_type": "code",
      "source": [
        "for doc in summarized_text_list:\n",
        "  NER_summarized_text(doc)\n"
      ],
      "metadata": {
        "colab": {
          "base_uri": "https://localhost:8080/",
          "height": 1000
        },
        "id": "hNSS4kEc1IWW",
        "outputId": "a27f7fab-90ed-490e-c81d-43c47aa16fda"
      },
      "execution_count": null,
      "outputs": [
        {
          "output_type": "display_data",
          "data": {
            "text/plain": [
              "<IPython.core.display.HTML object>"
            ],
            "text/html": [
              "<span class=\"tex2jax_ignore\"><div class=\"entities\" style=\"line-height: 2.5; direction: ltr\"> Left nipple areolar reconstruction utilizing a full-thickness skin graft from the left groin.,2. At this point, 4-0 chromic was used to run around the perimeter of the full-thickness skin graft and then at this point the nipple was delivered through a cruciate incision in the middle of the skin graft and then inset appropriately with 4-0 chromic. Surgical absence of left nipple areola with personal history of breast cancer.,2. Surgical absence of left nipple areola with personal history of breast cancer.,2. Fluff dressings were applied to the right breast as well as the area around the silo on the left breast around the reconstructed nipple areola. The initial portion of the procedure was harvesting a full-thickness skin graft from the left groin region. Once the maltese cross had been designed on the breast at the point where the nipple was to be placed, the areas of the portion of flap were de-epithelialized. Surgical team's gloves were changed and then attention was turned to the planning of the left nipple flap.,A maltese cross pattern was employed with a 1-cm diameter nipple and a 42-mm diameter nipple areolar complex. At this point, the graft was sutured into position in the defect using 3-0 chromic in an interrupted fashion and then trimming the ellipse to an appropriate circle to fill the areola. Breast asymmetry.,PROCEDURE,1. Redo right mastopexy.,ANESTHESIA,General endotracheal.,COMPLICATIONS,None.,DESCRIPTION OF PROCEDURE IN DETAIL,The patient was brought to the operating room and placed on the table in the supine position and after suitable induction of general endotracheal anesthesia, the patient was placed in a frog-leg position and prepped and draped in usual fashion for the above-noted procedure. When this had been completed, the Mastisol and Steri-Strips were applied to the transverse right breast incision. Mastisol and Steri-Strips were then applied.,At this point, attention was turned to the right breast where a 2-cm wide ellipse transversely oriented and with its inferior most aspect just inferior to the transverse mastopexy incision line was made. When this had been completed, the skin graft, which had been harvested from the left groin was brought onto the field where it was prepared by removing all subcutaneous tissue from the posterior aspect of the graft and carefully removing the hair follicles encountered within the graft. Then, at this point, the area of areola was dressed with \n",
              "<mark class=\"entity\" style=\"background: #ddd; padding: 0.45em 0.6em; margin: 0 0.25em; line-height: 1; border-radius: 0.35em;\">\n",
              "    silicone\n",
              "    <span style=\"font-size: 0.8em; font-weight: bold; line-height: 1; border-radius: 0.35em; vertical-align: middle; margin-left: 0.5rem\">CHEMICAL</span>\n",
              "</mark>\n",
              " gel sheeting.</div></span>"
            ]
          },
          "metadata": {}
        },
        {
          "output_type": "display_data",
          "data": {
            "text/plain": [
              "<IPython.core.display.HTML object>"
            ],
            "text/html": [
              "<span class=\"tex2jax_ignore\"><div class=\"entities\" style=\"line-height: 2.5; direction: ltr\"> I placed another 5-mm port in the midclavicular line just subcostal on the right side, a few centimeters below and medial to that, I placed a 12-mm VersaStep port. I then ran the distal bowel down, approximately 100 cm, and at 100 cm, I made a hole at the antimesenteric portion of the Roux limb and a hole in the antimesenteric portion of the duodenogastric limb, and I passed a 45 white load stapler and fired a stapler creating a side-to-side anastomosis. I joined the spike with the anvil and fired a stapler creating an end-to-side anastomosis, then divided across the redundant portion of my Roux limb with a \n",
              "<mark class=\"entity\" style=\"background: #ddd; padding: 0.45em 0.6em; margin: 0 0.25em; line-height: 1; border-radius: 0.35em;\">\n",
              "    white load GI stapler\n",
              "    <span style=\"font-size: 0.8em; font-weight: bold; line-height: 1; border-radius: 0.35em; vertical-align: middle; margin-left: 0.5rem\">DISEASE</span>\n",
              "</mark>\n",
              ", and removed it with an Endocatch bag. A few centimeters below and medial to that, I placed a 15-mm port. I then placed a 5-mm port just anterior to the midaxillary line and just subcostal on the right side. A 12-mm VersaStep port was placed through the umbilicus. On the left side, just anterior to the midaxillary line and just subcostal, I placed a 5-mm port. I ran the small bowel down approximately 40 cm and divided the small bowel with a white load GIA stapler. I pulled the anvil into place, and I then opened up my 15-mm port site and passed my EEA stapler. We closed the 15-mm port site with interrupted 0 Vicryl suture utilizing Carter-Thomason. I then placed a bowel clamp across the bowel. I then made a hole at the base of the gastric pouch and had Anesthesia remove the bougie and place the OG tube connected to the anvil. I went above and passed an EGD scope into the mouth down to the esophagus and into the gastric pouch. I divided the omentum all the way down to the colon in order to create a passageway for my small bowel to go antecolic. I then used two fires of the 60 blue load with SeamGuard to go up into my angle of His, thereby creating my gastric pouch.</div></span>"
            ]
          },
          "metadata": {}
        },
        {
          "output_type": "display_data",
          "data": {
            "text/plain": [
              "<IPython.core.display.HTML object>"
            ],
            "text/html": [
              "<span class=\"tex2jax_ignore\"><div class=\"entities\" style=\"line-height: 2.5; direction: ltr\"> He will need to go to Dr. XYZ as he previously had a sleep study. After this is performed, we will submit him for insurance approval. He is pursuing surgical attempts of \n",
              "<mark class=\"entity\" style=\"background: #ddd; padding: 0.45em 0.6em; margin: 0 0.25em; line-height: 1; border-radius: 0.35em;\">\n",
              "    weight loss\n",
              "    <span style=\"font-size: 0.8em; font-weight: bold; line-height: 1; border-radius: 0.35em; vertical-align: middle; margin-left: 0.5rem\">DISEASE</span>\n",
              "</mark>\n",
              " to feel good, get healthy, and begin to exercise again. If he lost 70% of his excess body weight that would be 129 pounds and that would get him down to 215.,REVIEW OF SYSTEMS: , Negative for head, neck, heart, lungs, GI, GU, orthopedic, or skin. He will need to see a nutritionist and mental health worker. He will need H. \n",
              "<mark class=\"entity\" style=\"background: #ddd; padding: 0.45em 0.6em; margin: 0 0.25em; line-height: 1; border-radius: 0.35em;\">\n",
              "    pylori\n",
              "    <span style=\"font-size: 0.8em; font-weight: bold; line-height: 1; border-radius: 0.35em; vertical-align: middle; margin-left: 0.5rem\">DISEASE</span>\n",
              "</mark>\n",
              " testing, thyroid function tests, LFTs, glycosylated hemoglobin, and fasting blood sugar. He currently weighs 344 pounds and 5'9&quot;. He smokes one and a half pack a day for 15 years, but he has recently stopped smoking for the past two weeks.,FAMILY HISTORY: , \n",
              "<mark class=\"entity\" style=\"background: #ddd; padding: 0.45em 0.6em; margin: 0 0.25em; line-height: 1; border-radius: 0.35em;\">\n",
              "    Obesity\n",
              "    <span style=\"font-size: 0.8em; font-weight: bold; line-height: 1; border-radius: 0.35em; vertical-align: middle; margin-left: 0.5rem\">DISEASE</span>\n",
              "</mark>\n",
              ", \n",
              "<mark class=\"entity\" style=\"background: #ddd; padding: 0.45em 0.6em; margin: 0 0.25em; line-height: 1; border-radius: 0.35em;\">\n",
              "    heart disease\n",
              "    <span style=\"font-size: 0.8em; font-weight: bold; line-height: 1; border-radius: 0.35em; vertical-align: middle; margin-left: 0.5rem\">DISEASE</span>\n",
              "</mark>\n",
              ", and \n",
              "<mark class=\"entity\" style=\"background: #ddd; padding: 0.45em 0.6em; margin: 0 0.25em; line-height: 1; border-radius: 0.35em;\">\n",
              "    diabetes\n",
              "    <span style=\"font-size: 0.8em; font-weight: bold; line-height: 1; border-radius: 0.35em; vertical-align: middle; margin-left: 0.5rem\">DISEASE</span>\n",
              "</mark>\n",
              ". His abdomen is soft. He is single. He has joint \n",
              "<mark class=\"entity\" style=\"background: #ddd; padding: 0.45em 0.6em; margin: 0 0.25em; line-height: 1; border-radius: 0.35em;\">\n",
              "    pain\n",
              "    <span style=\"font-size: 0.8em; font-weight: bold; line-height: 1; border-radius: 0.35em; vertical-align: middle; margin-left: 0.5rem\">DISEASE</span>\n",
              "</mark>\n",
              ", \n",
              "<mark class=\"entity\" style=\"background: #ddd; padding: 0.45em 0.6em; margin: 0 0.25em; line-height: 1; border-radius: 0.35em;\">\n",
              "    knee pain\n",
              "    <span style=\"font-size: 0.8em; font-weight: bold; line-height: 1; border-radius: 0.35em; vertical-align: middle; margin-left: 0.5rem\">DISEASE</span>\n",
              "</mark>\n",
              ", back \n",
              "<mark class=\"entity\" style=\"background: #ddd; padding: 0.45em 0.6em; margin: 0 0.25em; line-height: 1; border-radius: 0.35em;\">\n",
              "    pain\n",
              "    <span style=\"font-size: 0.8em; font-weight: bold; line-height: 1; border-radius: 0.35em; vertical-align: middle; margin-left: 0.5rem\">DISEASE</span>\n",
              "</mark>\n",
              ", foot and \n",
              "<mark class=\"entity\" style=\"background: #ddd; padding: 0.45em 0.6em; margin: 0 0.25em; line-height: 1; border-radius: 0.35em;\">\n",
              "    ankle pain\n",
              "    <span style=\"font-size: 0.8em; font-weight: bold; line-height: 1; border-radius: 0.35em; vertical-align: middle; margin-left: 0.5rem\">DISEASE</span>\n",
              "</mark>\n",
              ", leg and foot swelling. He also is positive for \n",
              "<mark class=\"entity\" style=\"background: #ddd; padding: 0.45em 0.6em; margin: 0 0.25em; line-height: 1; border-radius: 0.35em;\">\n",
              "    gout\n",
              "    <span style=\"font-size: 0.8em; font-weight: bold; line-height: 1; border-radius: 0.35em; vertical-align: middle; margin-left: 0.5rem\">DISEASE</span>\n",
              "</mark>\n",
              ". He did six months of not drinking \n",
              "<mark class=\"entity\" style=\"background: #ddd; padding: 0.45em 0.6em; margin: 0 0.25em; line-height: 1; border-radius: 0.35em;\">\n",
              "    alcohol\n",
              "    <span style=\"font-size: 0.8em; font-weight: bold; line-height: 1; border-radius: 0.35em; vertical-align: middle; margin-left: 0.5rem\">CHEMICAL</span>\n",
              "</mark>\n",
              " and not taking in many calories. He wants to proceed with workup and evaluation for laparoscopic Roux-en-Y gastric bypass. He has \n",
              "<mark class=\"entity\" style=\"background: #ddd; padding: 0.45em 0.6em; margin: 0 0.25em; line-height: 1; border-radius: 0.35em;\">\n",
              "    asthma\n",
              "    <span style=\"font-size: 0.8em; font-weight: bold; line-height: 1; border-radius: 0.35em; vertical-align: middle; margin-left: 0.5rem\">DISEASE</span>\n",
              "</mark>\n",
              " and difficulty walking two blocks or going eight to ten steps.</div></span>"
            ]
          },
          "metadata": {}
        },
        {
          "output_type": "display_data",
          "data": {
            "text/plain": [
              "<IPython.core.display.HTML object>"
            ],
            "text/html": [
              "<span class=\"tex2jax_ignore\"><div class=\"entities\" style=\"line-height: 2.5; direction: ltr\"> \n",
              "<mark class=\"entity\" style=\"background: #ddd; padding: 0.45em 0.6em; margin: 0 0.25em; line-height: 1; border-radius: 0.35em;\">\n",
              "    End-stage renal disease\n",
              "    <span style=\"font-size: 0.8em; font-weight: bold; line-height: 1; border-radius: 0.35em; vertical-align: middle; margin-left: 0.5rem\">DISEASE</span>\n",
              "</mark>\n",
              ", now status post deceased donor kidney transplant in 12/07.,2. He spontaneously voided without the Foley 110 mL.,ASSESSMENT AND PLAN:  ,This is a 66-year-old male with signs and symptoms of benign prostatic \n",
              "<mark class=\"entity\" style=\"background: #ddd; padding: 0.45em 0.6em; margin: 0 0.25em; line-height: 1; border-radius: 0.35em;\">\n",
              "    hypertrophy\n",
              "    <span style=\"font-size: 0.8em; font-weight: bold; line-height: 1; border-radius: 0.35em; vertical-align: middle; margin-left: 0.5rem\">DISEASE</span>\n",
              "</mark>\n",
              ", who has had recurrent urinary retention since the kidney transplant in 12/07. Insulin 70/30.,12. He had been seen by urology during a previous hospitalization and he passed his voiding trial at the time of his stent removal on 01/22/08. No lesions appreciated on the penis. He will have PSA level drawn either just before his visit for followup. During the most recent readmission on 02/04/08, he went back into urinary retention and he had had a Foley placed at the outside hospital.,REVIEW OF SYSTEMS:,  Positive for \n",
              "<mark class=\"entity\" style=\"background: #ddd; padding: 0.45em 0.6em; margin: 0 0.25em; line-height: 1; border-radius: 0.35em;\">\n",
              "    blurred vision\n",
              "    <span style=\"font-size: 0.8em; font-weight: bold; line-height: 1; border-radius: 0.35em; vertical-align: middle; margin-left: 0.5rem\">DISEASE</span>\n",
              "</mark>\n",
              ", \n",
              "<mark class=\"entity\" style=\"background: #ddd; padding: 0.45em 0.6em; margin: 0 0.25em; line-height: 1; border-radius: 0.35em;\">\n",
              "    nasal congestion\n",
              "    <span style=\"font-size: 0.8em; font-weight: bold; line-height: 1; border-radius: 0.35em; vertical-align: middle; margin-left: 0.5rem\">DISEASE</span>\n",
              "</mark>\n",
              ", and occasional \n",
              "<mark class=\"entity\" style=\"background: #ddd; padding: 0.45em 0.6em; margin: 0 0.25em; line-height: 1; border-radius: 0.35em;\">\n",
              "    constipation\n",
              "    <span style=\"font-size: 0.8em; font-weight: bold; line-height: 1; border-radius: 0.35em; vertical-align: middle; margin-left: 0.5rem\">DISEASE</span>\n",
              "</mark>\n",
              ". Flomax.,6. Finasteride.,ALLERGIES:,  No known drug allergies.,PHYSICAL EXAMINATION:,GENERAL:  This is a well-developed, well-nourished male, in no acute distress. We discussed with Mr. Barker that he has a urologist closer to his home and he lives approximately 3 hours away; however, he desires to continue follow up with the urology clinic at MCG and has been set up for followup in 6 weeks. LUNGS:  Clear to auscultation bilaterally. BPH.,6. \n",
              "<mark class=\"entity\" style=\"background: #ddd; padding: 0.45em 0.6em; margin: 0 0.25em; line-height: 1; border-radius: 0.35em;\">\n",
              "    DJD.,PAST\n",
              "    <span style=\"font-size: 0.8em; font-weight: bold; line-height: 1; border-radius: 0.35em; vertical-align: middle; margin-left: 0.5rem\">DISEASE</span>\n",
              "</mark>\n",
              " SURGICAL HISTORY:,1. Left forearm and left upper arm \n",
              "<mark class=\"entity\" style=\"background: #ddd; padding: 0.45em 0.6em; margin: 0 0.25em; line-height: 1; border-radius: 0.35em;\">\n",
              "    fistula\n",
              "    <span style=\"font-size: 0.8em; font-weight: bold; line-height: 1; border-radius: 0.35em; vertical-align: middle; margin-left: 0.5rem\">DISEASE</span>\n",
              "</mark>\n",
              " placements.,FAMILY HISTORY:  ,Significant for mother with an unknown type of \n",
              "<mark class=\"entity\" style=\"background: #ddd; padding: 0.45em 0.6em; margin: 0 0.25em; line-height: 1; border-radius: 0.35em;\">\n",
              "    cancer\n",
              "    <span style=\"font-size: 0.8em; font-weight: bold; line-height: 1; border-radius: 0.35em; vertical-align: middle; margin-left: 0.5rem\">DISEASE</span>\n",
              "</mark>\n",
              ", possibly \n",
              "<mark class=\"entity\" style=\"background: #ddd; padding: 0.45em 0.6em; margin: 0 0.25em; line-height: 1; border-radius: 0.35em;\">\n",
              "    colon cancer\n",
              "    <span style=\"font-size: 0.8em; font-weight: bold; line-height: 1; border-radius: 0.35em; vertical-align: middle; margin-left: 0.5rem\">DISEASE</span>\n",
              "</mark>\n",
              " or lung and \n",
              "<mark class=\"entity\" style=\"background: #ddd; padding: 0.45em 0.6em; margin: 0 0.25em; line-height: 1; border-radius: 0.35em;\">\n",
              "    prostate\n",
              "    <span style=\"font-size: 0.8em; font-weight: bold; line-height: 1; border-radius: 0.35em; vertical-align: middle; margin-left: 0.5rem\">DISEASE</span>\n",
              "</mark>\n",
              " problems on his father side of the family. History of nephrolithiasis.,4.</div></span>"
            ]
          },
          "metadata": {}
        }
      ]
    },
    {
      "cell_type": "code",
      "source": [
        "#docx = scispacy_nlp(summarized_text)"
      ],
      "metadata": {
        "id": "39pgoXfYsFLo"
      },
      "execution_count": null,
      "outputs": []
    },
    {
      "cell_type": "code",
      "source": [
        "#for en in docx.ents:\n",
        "#  print(en.text, en.label_)"
      ],
      "metadata": {
        "colab": {
          "base_uri": "https://localhost:8080/"
        },
        "id": "NJUL5-k4sIht",
        "outputId": "3da13dad-2c21-4b5a-f73a-e80bd0dbf331"
      },
      "execution_count": null,
      "outputs": [
        {
          "output_type": "stream",
          "name": "stdout",
          "text": [
            "End-stage renal disease DISEASE\n",
            "hypertrophy DISEASE\n",
            "blurred vision DISEASE\n",
            "nasal congestion DISEASE\n",
            "constipation DISEASE\n",
            "DJD.,PAST DISEASE\n",
            "fistula DISEASE\n",
            "cancer DISEASE\n",
            "colon cancer DISEASE\n",
            "prostate DISEASE\n"
          ]
        }
      ]
    },
    {
      "cell_type": "code",
      "source": [
        "from spacy import displacy\n",
        "displacy.render(docx,style='ent',jupyter=True)"
      ],
      "metadata": {
        "colab": {
          "base_uri": "https://localhost:8080/",
          "height": 472
        },
        "id": "AcgK0PxosKfi",
        "outputId": "246973e0-2a04-4c96-daf2-81518662f547"
      },
      "execution_count": null,
      "outputs": [
        {
          "output_type": "display_data",
          "data": {
            "text/plain": [
              "<IPython.core.display.HTML object>"
            ],
            "text/html": [
              "<span class=\"tex2jax_ignore\"><div class=\"entities\" style=\"line-height: 2.5; direction: ltr\"> \n",
              "<mark class=\"entity\" style=\"background: #ddd; padding: 0.45em 0.6em; margin: 0 0.25em; line-height: 1; border-radius: 0.35em;\">\n",
              "    End-stage renal disease\n",
              "    <span style=\"font-size: 0.8em; font-weight: bold; line-height: 1; border-radius: 0.35em; vertical-align: middle; margin-left: 0.5rem\">DISEASE</span>\n",
              "</mark>\n",
              ", now status post deceased donor kidney transplant in 12/07.,2. He spontaneously voided without the Foley 110 mL.,ASSESSMENT AND PLAN:  ,This is a 66-year-old male with signs and symptoms of benign prostatic \n",
              "<mark class=\"entity\" style=\"background: #ddd; padding: 0.45em 0.6em; margin: 0 0.25em; line-height: 1; border-radius: 0.35em;\">\n",
              "    hypertrophy\n",
              "    <span style=\"font-size: 0.8em; font-weight: bold; line-height: 1; border-radius: 0.35em; vertical-align: middle; margin-left: 0.5rem\">DISEASE</span>\n",
              "</mark>\n",
              ", who has had recurrent urinary retention since the kidney transplant in 12/07. Insulin 70/30.,12. He had been seen by urology during a previous hospitalization and he passed his voiding trial at the time of his stent removal on 01/22/08. No lesions appreciated on the penis. He will have PSA level drawn either just before his visit for followup. During the most recent readmission on 02/04/08, he went back into urinary retention and he had had a Foley placed at the outside hospital.,REVIEW OF SYSTEMS:,  Positive for \n",
              "<mark class=\"entity\" style=\"background: #ddd; padding: 0.45em 0.6em; margin: 0 0.25em; line-height: 1; border-radius: 0.35em;\">\n",
              "    blurred vision\n",
              "    <span style=\"font-size: 0.8em; font-weight: bold; line-height: 1; border-radius: 0.35em; vertical-align: middle; margin-left: 0.5rem\">DISEASE</span>\n",
              "</mark>\n",
              ", \n",
              "<mark class=\"entity\" style=\"background: #ddd; padding: 0.45em 0.6em; margin: 0 0.25em; line-height: 1; border-radius: 0.35em;\">\n",
              "    nasal congestion\n",
              "    <span style=\"font-size: 0.8em; font-weight: bold; line-height: 1; border-radius: 0.35em; vertical-align: middle; margin-left: 0.5rem\">DISEASE</span>\n",
              "</mark>\n",
              ", and occasional \n",
              "<mark class=\"entity\" style=\"background: #ddd; padding: 0.45em 0.6em; margin: 0 0.25em; line-height: 1; border-radius: 0.35em;\">\n",
              "    constipation\n",
              "    <span style=\"font-size: 0.8em; font-weight: bold; line-height: 1; border-radius: 0.35em; vertical-align: middle; margin-left: 0.5rem\">DISEASE</span>\n",
              "</mark>\n",
              ". Flomax.,6. Finasteride.,ALLERGIES:,  No known drug allergies.,PHYSICAL EXAMINATION:,GENERAL:  This is a well-developed, well-nourished male, in no acute distress. We discussed with Mr. Barker that he has a urologist closer to his home and he lives approximately 3 hours away; however, he desires to continue follow up with the urology clinic at MCG and has been set up for followup in 6 weeks. LUNGS:  Clear to auscultation bilaterally. BPH.,6. \n",
              "<mark class=\"entity\" style=\"background: #ddd; padding: 0.45em 0.6em; margin: 0 0.25em; line-height: 1; border-radius: 0.35em;\">\n",
              "    DJD.,PAST\n",
              "    <span style=\"font-size: 0.8em; font-weight: bold; line-height: 1; border-radius: 0.35em; vertical-align: middle; margin-left: 0.5rem\">DISEASE</span>\n",
              "</mark>\n",
              " SURGICAL HISTORY:,1. Left forearm and left upper arm \n",
              "<mark class=\"entity\" style=\"background: #ddd; padding: 0.45em 0.6em; margin: 0 0.25em; line-height: 1; border-radius: 0.35em;\">\n",
              "    fistula\n",
              "    <span style=\"font-size: 0.8em; font-weight: bold; line-height: 1; border-radius: 0.35em; vertical-align: middle; margin-left: 0.5rem\">DISEASE</span>\n",
              "</mark>\n",
              " placements.,FAMILY HISTORY:  ,Significant for mother with an unknown type of \n",
              "<mark class=\"entity\" style=\"background: #ddd; padding: 0.45em 0.6em; margin: 0 0.25em; line-height: 1; border-radius: 0.35em;\">\n",
              "    cancer\n",
              "    <span style=\"font-size: 0.8em; font-weight: bold; line-height: 1; border-radius: 0.35em; vertical-align: middle; margin-left: 0.5rem\">DISEASE</span>\n",
              "</mark>\n",
              ", possibly \n",
              "<mark class=\"entity\" style=\"background: #ddd; padding: 0.45em 0.6em; margin: 0 0.25em; line-height: 1; border-radius: 0.35em;\">\n",
              "    colon cancer\n",
              "    <span style=\"font-size: 0.8em; font-weight: bold; line-height: 1; border-radius: 0.35em; vertical-align: middle; margin-left: 0.5rem\">DISEASE</span>\n",
              "</mark>\n",
              " or lung and \n",
              "<mark class=\"entity\" style=\"background: #ddd; padding: 0.45em 0.6em; margin: 0 0.25em; line-height: 1; border-radius: 0.35em;\">\n",
              "    prostate\n",
              "    <span style=\"font-size: 0.8em; font-weight: bold; line-height: 1; border-radius: 0.35em; vertical-align: middle; margin-left: 0.5rem\">DISEASE</span>\n",
              "</mark>\n",
              " problems on his father side of the family. History of nephrolithiasis.,4.</div></span>"
            ]
          },
          "metadata": {}
        }
      ]
    },
    {
      "cell_type": "markdown",
      "source": [
        "EVALUATE THE MODEL"
      ],
      "metadata": {
        "id": "R3VK7e9Tr9g5"
      }
    },
    {
      "cell_type": "markdown",
      "source": [
        "**TEXTRANK:**"
      ],
      "metadata": {
        "id": "ipSFWzwq6-cB"
      }
    },
    {
      "cell_type": "code",
      "source": [
        "gold_terms = {\n",
        "    (\"End-stage renal disease\", \"DISEASE\"),\n",
        "}\n"
      ],
      "metadata": {
        "colab": {
          "base_uri": "https://localhost:8080/"
        },
        "id": "83zU1lNwr9GM",
        "outputId": "cf6ae276-7d72-4422-b8d5-2b1c5aa56733"
      },
      "execution_count": null,
      "outputs": [
        {
          "output_type": "stream",
          "name": "stdout",
          "text": [
            "ERROR: unknown command \"/pip3\"\n"
          ]
        }
      ]
    },
    {
      "cell_type": "code",
      "source": [
        "scispacy_entities = {\n",
        "    (\"End-stage renal disease\", \"DISEASE\"),\n",
        "\n",
        "}\n"
      ],
      "metadata": {
        "id": "D_5TmNRwmVYC"
      },
      "execution_count": null,
      "outputs": []
    },
    {
      "cell_type": "code",
      "source": [
        "tp = scispacy_entities & gold_terms\n",
        "fp = scispacy_entities - gold_terms\n",
        "fn = gold_terms - scispacy_entities\n",
        "\n",
        "precision = len(tp) / (len(tp) + len(fp)) if (tp or fp) else 0\n",
        "recall = len(tp) / (len(tp) + len(fn)) if (tp or fn) else 0\n",
        "f1 = 2 * precision * recall / (precision + recall) if (precision and recall) else 0\n",
        "\n",
        "print(\"TP:\", tp)\n",
        "print(\"FP:\", fp)\n",
        "print(\"FN:\", fn)\n",
        "print(\"Precision:\", precision)\n",
        "print(\"Recall:\", recall)\n",
        "print(\"F1 Score:\", f1)\n"
      ],
      "metadata": {
        "id": "Y5ivJR3S5kJV"
      },
      "execution_count": null,
      "outputs": []
    }
  ]
}